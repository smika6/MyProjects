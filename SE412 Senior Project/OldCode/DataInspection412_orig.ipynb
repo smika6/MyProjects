{
  "cells": [
    {
      "cell_type": "markdown",
      "metadata": {
        "id": "rDTQ7b75VdyM"
      },
      "source": [
        "Start Here"
      ]
    },
    {
      "cell_type": "markdown",
      "metadata": {
        "id": "4fYS2CrqVgEh"
      },
      "source": [
        "Rework so that the following is not neede. Maybe wgets should pull into a new directory"
      ]
    },
    {
      "cell_type": "code",
      "execution_count": 1,
      "metadata": {
        "colab": {
          "base_uri": "https://localhost:8080/"
        },
        "id": "iE_dOlf31WqY",
        "outputId": "71c03b49-83e4-468b-9752-8829b3bd6f97"
      },
      "outputs": [
        {
          "name": "stdout",
          "output_type": "stream",
          "text": [
            "/content/news\n"
          ]
        }
      ],
      "source": [
        "%mkdir news\n",
        "%cd news/"
      ]
    },
    {
      "cell_type": "code",
      "execution_count": null,
      "metadata": {
        "id": "4UX2aDvYt4R8"
      },
      "outputs": [],
      "source": [
        "!wget https://github.com/several27/FakeNewsCorpus/releases/download/v1.0/news.csv.zip\n",
        "!wget https://github.com/several27/FakeNewsCorpus/releases/download/v1.0/news.csv.z01\n",
        "!wget https://github.com/several27/FakeNewsCorpus/releases/download/v1.0/news.csv.z02\n",
        "!wget https://github.com/several27/FakeNewsCorpus/releases/download/v1.0/news.csv.z03\n",
        "!wget https://github.com/several27/FakeNewsCorpus/releases/download/v1.0/news.csv.z04\n",
        "!wget https://github.com/several27/FakeNewsCorpus/releases/download/v1.0/news.csv.z05\n",
        "!wget https://github.com/several27/FakeNewsCorpus/releases/download/v1.0/news.csv.z06\n",
        "!wget https://github.com/several27/FakeNewsCorpus/releases/download/v1.0/news.csv.z07\n",
        "!wget https://github.com/several27/FakeNewsCorpus/releases/download/v1.0/news.csv.z08\n",
        "!wget https://github.com/several27/FakeNewsCorpus/releases/download/v1.0/news.csv.z09"
      ]
    },
    {
      "cell_type": "markdown",
      "metadata": {
        "id": "pbJQQKL6LBmg"
      },
      "source": [
        "The folloowing one works\n",
        "Archived zip partitions need to be concatenated, zipped, and then unzipped\n"
      ]
    },
    {
      "cell_type": "code",
      "execution_count": null,
      "metadata": {
        "colab": {
          "base_uri": "https://localhost:8080/"
        },
        "id": "y_2zgheA8qtP",
        "outputId": "1f452735-3de3-4206-aa2b-903c5060d163"
      },
      "outputs": [],
      "source": [
        "cat news.csv.z01 news.csv.z02 news.csv.z03 news.csv.z04 news.csv.z05 news.csv.z06 news.csv.z07 news.csv.z08 news.csv.z09 news.csv.zip > combined.zip && unzip -FF combined.zip"
      ]
    },
    {
      "cell_type": "code",
      "execution_count": 2,
      "metadata": {
        "colab": {
          "base_uri": "https://localhost:8080/",
          "height": 35
        },
        "id": "zXkmWMLkBxZV",
        "outputId": "3df646a4-489a-4fac-8cd3-e8de5ebccfae"
      },
      "outputs": [
        {
          "data": {
            "application/vnd.google.colaboratory.intrinsic+json": {
              "type": "string"
            },
            "text/plain": [
              "'/content/news'"
            ]
          },
          "execution_count": 2,
          "metadata": {},
          "output_type": "execute_result"
        }
      ],
      "source": [
        "%pwd"
      ]
    },
    {
      "cell_type": "code",
      "execution_count": null,
      "metadata": {
        "colab": {
          "base_uri": "https://localhost:8080/"
        },
        "id": "6HydbbWwBDcm",
        "outputId": "a1f40379-bd20-4b2d-e9d4-de4a9cdcb731"
      },
      "outputs": [
        {
          "name": "stdout",
          "output_type": "stream",
          "text": [
            "29322513705\n"
          ]
        }
      ],
      "source": [
        "import os\n",
        "b = os.path.getsize(\"news/news_cleaned_2018_02_13.csv\")\n",
        "print(b)"
      ]
    },
    {
      "cell_type": "markdown",
      "metadata": {
        "id": "m5yOV1csVuVc"
      },
      "source": [
        "Chunk it out"
      ]
    },
    {
      "cell_type": "code",
      "execution_count": null,
      "metadata": {
        "id": "26-71BybFXx1"
      },
      "outputs": [],
      "source": [
        "import pandas as pd\n",
        "df = pd.read_csv('news/news_cleaned_2018_02_13.csv', iterator=True, chunksize=90000, lineterminator='\\n')"
      ]
    },
    {
      "cell_type": "markdown",
      "metadata": {
        "id": "1LXF21xCVxQ9"
      },
      "source": [
        "now for each chunk. chunks maintain the keys in the first line of the csv when writing frame to csv. \n",
        "This takes like 25 mins."
      ]
    },
    {
      "cell_type": "code",
      "execution_count": null,
      "metadata": {
        "colab": {
          "base_uri": "https://localhost:8080/"
        },
        "id": "y3bn8miR_gQ7",
        "outputId": "cff3dc1b-ac85-4cbf-9071-b83235ad59dc"
      },
      "outputs": [],
      "source": [
        "i = 1\n",
        "for frame in df:\n",
        "  frame.to_csv(f\"news/news_{i}.csv\")\n",
        "  i += 1\n"
      ]
    },
    {
      "cell_type": "code",
      "execution_count": null,
      "metadata": {
        "id": "pAEH6wT6QL9r"
      },
      "outputs": [],
      "source": [
        "f = pd.read_csv(\"news/news_1.csv\")"
      ]
    },
    {
      "cell_type": "markdown",
      "metadata": {
        "id": "UaZyy7PMBDRw"
      },
      "source": [
        "KEYS ARE: ,Unnamed: 0,id,domain,type,url,content,scraped_at,inserted_at,updated_at,title,authors,keywords,meta_keywords,meta_description,tags,summary,source\n",
        "0,0,2"
      ]
    },
    {
      "cell_type": "code",
      "execution_count": null,
      "metadata": {
        "colab": {
          "base_uri": "https://localhost:8080/"
        },
        "id": "ovp77iGuQWgK",
        "outputId": "0d13e4da-7f85-41d3-bd52-2ac3de5829fd"
      },
      "outputs": [
        {
          "data": {
            "text/plain": [
              "0            rumor\n",
              "1             hate\n",
              "2             hate\n",
              "3             hate\n",
              "4             hate\n",
              "           ...    \n",
              "89995    political\n",
              "89996    political\n",
              "89997    political\n",
              "89998    political\n",
              "89999    political\n",
              "Name: type, Length: 90000, dtype: object"
            ]
          },
          "execution_count": 37,
          "metadata": {},
          "output_type": "execute_result"
        }
      ],
      "source": [
        "f.get(\"content\")[0]\n",
        "f.get(\"type\")\n"
      ]
    }
  ],
  "metadata": {
    "colab": {
      "collapsed_sections": [],
      "name": "DataInspection412.ipynb",
      "provenance": []
    },
    "kernelspec": {
      "display_name": "Python 3",
      "name": "python3"
    },
    "language_info": {
      "name": "python"
    }
  },
  "nbformat": 4,
  "nbformat_minor": 0
}
